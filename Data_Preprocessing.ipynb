{
  "nbformat": 4,
  "nbformat_minor": 0,
  "metadata": {
    "colab": {
      "provenance": []
    },
    "kernelspec": {
      "name": "python3",
      "display_name": "Python 3"
    },
    "language_info": {
      "name": "python"
    }
  },
  "cells": [
    {
      "cell_type": "code",
      "source": [
        "import numpy as np\n",
        "import pandas as pd\n",
        "from sklearn.model_selection import train_test_split\n",
        "import matplotlib.pyplot as plt\n",
        "from sklearn.preprocessing import OneHotEncoder\n",
        "from sklearn.preprocessing import StandardScaler\n",
        "import tensorflow as tf\n",
        "import keras\n",
        "from tensorflow import keras\n",
        "from tensorflow.keras import layers\n",
        "import copy\n",
        "from copy import deepcopy\n",
        "from keras.utils import to_categorical"
      ],
      "metadata": {
        "id": "SRVg2Do6aD9v"
      },
      "execution_count": null,
      "outputs": []
    },
    {
      "cell_type": "code",
      "source": [
        "from google.colab import drive\n",
        "drive.mount('/content/drive')"
      ],
      "metadata": {
        "colab": {
          "base_uri": "https://localhost:8080/"
        },
        "id": "x1Jy9tYHXokZ",
        "outputId": "ce865fc5-0681-4f46-d96a-a0f90fedf7ab"
      },
      "execution_count": null,
      "outputs": [
        {
          "output_type": "stream",
          "name": "stdout",
          "text": [
            "Mounted at /content/drive\n"
          ]
        }
      ]
    },
    {
      "cell_type": "code",
      "source": [
        "X=pd.read_csv('/content/drive/MyDrive/diab_clean_version.csv')\n",
        "X.head()"
      ],
      "metadata": {
        "colab": {
          "base_uri": "https://localhost:8080/",
          "height": 403
        },
        "id": "0r19qVEpaD5w",
        "outputId": "49a15bf5-7bd2-4d37-a7d9-7d2566681668"
      },
      "execution_count": null,
      "outputs": [
        {
          "output_type": "execute_result",
          "data": {
            "text/plain": [
              "   Unnamed: 0             race  gender      age admission_type_id  \\\n",
              "0           1        Caucasian  Female  [10-20)         Emergency   \n",
              "1           2  AfricanAmerican  Female  [20-30)         Emergency   \n",
              "2           3        Caucasian    Male  [30-40)         Emergency   \n",
              "3           4        Caucasian    Male  [40-50)         Emergency   \n",
              "4           5        Caucasian    Male  [50-60)        Other type   \n",
              "\n",
              "  discharge_disposition_id admission_source_id  time_in_hospital  \\\n",
              "0                     Home      Emergency Room                 3   \n",
              "1                     Home      Emergency Room                 2   \n",
              "2                     Home      Emergency Room                 2   \n",
              "3                     Home      Emergency Room                 1   \n",
              "4                     Home        Other source                 3   \n",
              "\n",
              "   num_lab_procedures  num_procedures  ...  number_emergency  \\\n",
              "0                  59               0  ...                 0   \n",
              "1                  11               5  ...                 0   \n",
              "2                  44               1  ...                 0   \n",
              "3                  51               0  ...                 0   \n",
              "4                  31               6  ...                 0   \n",
              "\n",
              "   number_inpatient  diag_1  number_diagnoses max_glu_serum  a1cresult  \\\n",
              "0                 0      No                 9          None       None   \n",
              "1                 1      No                 6          None       None   \n",
              "2                 0      No                 7          None       None   \n",
              "3                 0      No                 5          None       None   \n",
              "4                 0      No                 9          None       None   \n",
              "\n",
              "  insulin change diabetesmed readmitted  \n",
              "0      Up     Ch         Yes        >30  \n",
              "1      No     No         Yes         NO  \n",
              "2      Up     Ch         Yes         NO  \n",
              "3  Steady     Ch         Yes         NO  \n",
              "4  Steady     No         Yes        >30  \n",
              "\n",
              "[5 rows x 22 columns]"
            ],
            "text/html": [
              "\n",
              "  <div id=\"df-c17ba206-d9ec-40b6-a958-aa89d6f7b8ae\">\n",
              "    <div class=\"colab-df-container\">\n",
              "      <div>\n",
              "<style scoped>\n",
              "    .dataframe tbody tr th:only-of-type {\n",
              "        vertical-align: middle;\n",
              "    }\n",
              "\n",
              "    .dataframe tbody tr th {\n",
              "        vertical-align: top;\n",
              "    }\n",
              "\n",
              "    .dataframe thead th {\n",
              "        text-align: right;\n",
              "    }\n",
              "</style>\n",
              "<table border=\"1\" class=\"dataframe\">\n",
              "  <thead>\n",
              "    <tr style=\"text-align: right;\">\n",
              "      <th></th>\n",
              "      <th>Unnamed: 0</th>\n",
              "      <th>race</th>\n",
              "      <th>gender</th>\n",
              "      <th>age</th>\n",
              "      <th>admission_type_id</th>\n",
              "      <th>discharge_disposition_id</th>\n",
              "      <th>admission_source_id</th>\n",
              "      <th>time_in_hospital</th>\n",
              "      <th>num_lab_procedures</th>\n",
              "      <th>num_procedures</th>\n",
              "      <th>...</th>\n",
              "      <th>number_emergency</th>\n",
              "      <th>number_inpatient</th>\n",
              "      <th>diag_1</th>\n",
              "      <th>number_diagnoses</th>\n",
              "      <th>max_glu_serum</th>\n",
              "      <th>a1cresult</th>\n",
              "      <th>insulin</th>\n",
              "      <th>change</th>\n",
              "      <th>diabetesmed</th>\n",
              "      <th>readmitted</th>\n",
              "    </tr>\n",
              "  </thead>\n",
              "  <tbody>\n",
              "    <tr>\n",
              "      <th>0</th>\n",
              "      <td>1</td>\n",
              "      <td>Caucasian</td>\n",
              "      <td>Female</td>\n",
              "      <td>[10-20)</td>\n",
              "      <td>Emergency</td>\n",
              "      <td>Home</td>\n",
              "      <td>Emergency Room</td>\n",
              "      <td>3</td>\n",
              "      <td>59</td>\n",
              "      <td>0</td>\n",
              "      <td>...</td>\n",
              "      <td>0</td>\n",
              "      <td>0</td>\n",
              "      <td>No</td>\n",
              "      <td>9</td>\n",
              "      <td>None</td>\n",
              "      <td>None</td>\n",
              "      <td>Up</td>\n",
              "      <td>Ch</td>\n",
              "      <td>Yes</td>\n",
              "      <td>&gt;30</td>\n",
              "    </tr>\n",
              "    <tr>\n",
              "      <th>1</th>\n",
              "      <td>2</td>\n",
              "      <td>AfricanAmerican</td>\n",
              "      <td>Female</td>\n",
              "      <td>[20-30)</td>\n",
              "      <td>Emergency</td>\n",
              "      <td>Home</td>\n",
              "      <td>Emergency Room</td>\n",
              "      <td>2</td>\n",
              "      <td>11</td>\n",
              "      <td>5</td>\n",
              "      <td>...</td>\n",
              "      <td>0</td>\n",
              "      <td>1</td>\n",
              "      <td>No</td>\n",
              "      <td>6</td>\n",
              "      <td>None</td>\n",
              "      <td>None</td>\n",
              "      <td>No</td>\n",
              "      <td>No</td>\n",
              "      <td>Yes</td>\n",
              "      <td>NO</td>\n",
              "    </tr>\n",
              "    <tr>\n",
              "      <th>2</th>\n",
              "      <td>3</td>\n",
              "      <td>Caucasian</td>\n",
              "      <td>Male</td>\n",
              "      <td>[30-40)</td>\n",
              "      <td>Emergency</td>\n",
              "      <td>Home</td>\n",
              "      <td>Emergency Room</td>\n",
              "      <td>2</td>\n",
              "      <td>44</td>\n",
              "      <td>1</td>\n",
              "      <td>...</td>\n",
              "      <td>0</td>\n",
              "      <td>0</td>\n",
              "      <td>No</td>\n",
              "      <td>7</td>\n",
              "      <td>None</td>\n",
              "      <td>None</td>\n",
              "      <td>Up</td>\n",
              "      <td>Ch</td>\n",
              "      <td>Yes</td>\n",
              "      <td>NO</td>\n",
              "    </tr>\n",
              "    <tr>\n",
              "      <th>3</th>\n",
              "      <td>4</td>\n",
              "      <td>Caucasian</td>\n",
              "      <td>Male</td>\n",
              "      <td>[40-50)</td>\n",
              "      <td>Emergency</td>\n",
              "      <td>Home</td>\n",
              "      <td>Emergency Room</td>\n",
              "      <td>1</td>\n",
              "      <td>51</td>\n",
              "      <td>0</td>\n",
              "      <td>...</td>\n",
              "      <td>0</td>\n",
              "      <td>0</td>\n",
              "      <td>No</td>\n",
              "      <td>5</td>\n",
              "      <td>None</td>\n",
              "      <td>None</td>\n",
              "      <td>Steady</td>\n",
              "      <td>Ch</td>\n",
              "      <td>Yes</td>\n",
              "      <td>NO</td>\n",
              "    </tr>\n",
              "    <tr>\n",
              "      <th>4</th>\n",
              "      <td>5</td>\n",
              "      <td>Caucasian</td>\n",
              "      <td>Male</td>\n",
              "      <td>[50-60)</td>\n",
              "      <td>Other type</td>\n",
              "      <td>Home</td>\n",
              "      <td>Other source</td>\n",
              "      <td>3</td>\n",
              "      <td>31</td>\n",
              "      <td>6</td>\n",
              "      <td>...</td>\n",
              "      <td>0</td>\n",
              "      <td>0</td>\n",
              "      <td>No</td>\n",
              "      <td>9</td>\n",
              "      <td>None</td>\n",
              "      <td>None</td>\n",
              "      <td>Steady</td>\n",
              "      <td>No</td>\n",
              "      <td>Yes</td>\n",
              "      <td>&gt;30</td>\n",
              "    </tr>\n",
              "  </tbody>\n",
              "</table>\n",
              "<p>5 rows × 22 columns</p>\n",
              "</div>\n",
              "      <button class=\"colab-df-convert\" onclick=\"convertToInteractive('df-c17ba206-d9ec-40b6-a958-aa89d6f7b8ae')\"\n",
              "              title=\"Convert this dataframe to an interactive table.\"\n",
              "              style=\"display:none;\">\n",
              "        \n",
              "  <svg xmlns=\"http://www.w3.org/2000/svg\" height=\"24px\"viewBox=\"0 0 24 24\"\n",
              "       width=\"24px\">\n",
              "    <path d=\"M0 0h24v24H0V0z\" fill=\"none\"/>\n",
              "    <path d=\"M18.56 5.44l.94 2.06.94-2.06 2.06-.94-2.06-.94-.94-2.06-.94 2.06-2.06.94zm-11 1L8.5 8.5l.94-2.06 2.06-.94-2.06-.94L8.5 2.5l-.94 2.06-2.06.94zm10 10l.94 2.06.94-2.06 2.06-.94-2.06-.94-.94-2.06-.94 2.06-2.06.94z\"/><path d=\"M17.41 7.96l-1.37-1.37c-.4-.4-.92-.59-1.43-.59-.52 0-1.04.2-1.43.59L10.3 9.45l-7.72 7.72c-.78.78-.78 2.05 0 2.83L4 21.41c.39.39.9.59 1.41.59.51 0 1.02-.2 1.41-.59l7.78-7.78 2.81-2.81c.8-.78.8-2.07 0-2.86zM5.41 20L4 18.59l7.72-7.72 1.47 1.35L5.41 20z\"/>\n",
              "  </svg>\n",
              "      </button>\n",
              "      \n",
              "  <style>\n",
              "    .colab-df-container {\n",
              "      display:flex;\n",
              "      flex-wrap:wrap;\n",
              "      gap: 12px;\n",
              "    }\n",
              "\n",
              "    .colab-df-convert {\n",
              "      background-color: #E8F0FE;\n",
              "      border: none;\n",
              "      border-radius: 50%;\n",
              "      cursor: pointer;\n",
              "      display: none;\n",
              "      fill: #1967D2;\n",
              "      height: 32px;\n",
              "      padding: 0 0 0 0;\n",
              "      width: 32px;\n",
              "    }\n",
              "\n",
              "    .colab-df-convert:hover {\n",
              "      background-color: #E2EBFA;\n",
              "      box-shadow: 0px 1px 2px rgba(60, 64, 67, 0.3), 0px 1px 3px 1px rgba(60, 64, 67, 0.15);\n",
              "      fill: #174EA6;\n",
              "    }\n",
              "\n",
              "    [theme=dark] .colab-df-convert {\n",
              "      background-color: #3B4455;\n",
              "      fill: #D2E3FC;\n",
              "    }\n",
              "\n",
              "    [theme=dark] .colab-df-convert:hover {\n",
              "      background-color: #434B5C;\n",
              "      box-shadow: 0px 1px 3px 1px rgba(0, 0, 0, 0.15);\n",
              "      filter: drop-shadow(0px 1px 2px rgba(0, 0, 0, 0.3));\n",
              "      fill: #FFFFFF;\n",
              "    }\n",
              "  </style>\n",
              "\n",
              "      <script>\n",
              "        const buttonEl =\n",
              "          document.querySelector('#df-c17ba206-d9ec-40b6-a958-aa89d6f7b8ae button.colab-df-convert');\n",
              "        buttonEl.style.display =\n",
              "          google.colab.kernel.accessAllowed ? 'block' : 'none';\n",
              "\n",
              "        async function convertToInteractive(key) {\n",
              "          const element = document.querySelector('#df-c17ba206-d9ec-40b6-a958-aa89d6f7b8ae');\n",
              "          const dataTable =\n",
              "            await google.colab.kernel.invokeFunction('convertToInteractive',\n",
              "                                                     [key], {});\n",
              "          if (!dataTable) return;\n",
              "\n",
              "          const docLinkHtml = 'Like what you see? Visit the ' +\n",
              "            '<a target=\"_blank\" href=https://colab.research.google.com/notebooks/data_table.ipynb>data table notebook</a>'\n",
              "            + ' to learn more about interactive tables.';\n",
              "          element.innerHTML = '';\n",
              "          dataTable['output_type'] = 'display_data';\n",
              "          await google.colab.output.renderOutput(dataTable, element);\n",
              "          const docLink = document.createElement('div');\n",
              "          docLink.innerHTML = docLinkHtml;\n",
              "          element.appendChild(docLink);\n",
              "        }\n",
              "      </script>\n",
              "    </div>\n",
              "  </div>\n",
              "  "
            ]
          },
          "metadata": {},
          "execution_count": 6
        }
      ]
    },
    {
      "cell_type": "code",
      "source": [
        "X.shape"
      ],
      "metadata": {
        "colab": {
          "base_uri": "https://localhost:8080/"
        },
        "id": "yl8o_3sMl6O4",
        "outputId": "fd2ea028-4f82-4adb-c1c8-3d7e1cfcfdd9"
      },
      "execution_count": null,
      "outputs": [
        {
          "output_type": "execute_result",
          "data": {
            "text/plain": [
              "(98052, 22)"
            ]
          },
          "metadata": {},
          "execution_count": 7
        }
      ]
    },
    {
      "cell_type": "code",
      "source": [
        "rows_to_be_removed=[]\n",
        "for i in range(len(X['readmitted'])):\n",
        "  if(X.iloc[i]['readmitted']=='NO'):\n",
        "    rows_to_be_removed.append(i)\n"
      ],
      "metadata": {
        "id": "I2YYkOtliQH_"
      },
      "execution_count": null,
      "outputs": []
    },
    {
      "cell_type": "code",
      "source": [
        "len(rows_to_be_removed)"
      ],
      "metadata": {
        "colab": {
          "base_uri": "https://localhost:8080/"
        },
        "id": "IdOIcXSTiwFq",
        "outputId": "ba5e1fed-6368-488c-af6e-38ac5086882f"
      },
      "execution_count": null,
      "outputs": [
        {
          "output_type": "execute_result",
          "data": {
            "text/plain": [
              "52337"
            ]
          },
          "metadata": {},
          "execution_count": 9
        }
      ]
    },
    {
      "cell_type": "code",
      "source": [
        "X.drop(rows_to_be_removed,inplace=True)"
      ],
      "metadata": {
        "id": "p8R1z6R4iyb3"
      },
      "execution_count": null,
      "outputs": []
    },
    {
      "cell_type": "code",
      "source": [
        "X.shape"
      ],
      "metadata": {
        "colab": {
          "base_uri": "https://localhost:8080/"
        },
        "id": "NuODk7fNjXnH",
        "outputId": "45e296b5-6861-47ae-ee38-944e36acda01"
      },
      "execution_count": null,
      "outputs": [
        {
          "output_type": "execute_result",
          "data": {
            "text/plain": [
              "(45715, 22)"
            ]
          },
          "metadata": {},
          "execution_count": 11
        }
      ]
    },
    {
      "cell_type": "code",
      "source": [
        "X['readmitted'].value_counts()"
      ],
      "metadata": {
        "colab": {
          "base_uri": "https://localhost:8080/"
        },
        "id": "UFs2STWpzt4O",
        "outputId": "663c5cb4-fa31-465d-de40-d78855265011"
      },
      "execution_count": null,
      "outputs": [
        {
          "output_type": "execute_result",
          "data": {
            "text/plain": [
              ">30    34649\n",
              "<30    11066\n",
              "Name: readmitted, dtype: int64"
            ]
          },
          "metadata": {},
          "execution_count": 12
        }
      ]
    },
    {
      "cell_type": "code",
      "source": [
        "y=[]\n",
        "for ele in X['readmitted']:\n",
        "  if(ele=='>30'):\n",
        "    y.append(1)\n",
        "  else:\n",
        "    y.append(0)"
      ],
      "metadata": {
        "id": "EB0zSn0ezh2i"
      },
      "execution_count": null,
      "outputs": []
    },
    {
      "cell_type": "code",
      "source": [
        "X.shape"
      ],
      "metadata": {
        "colab": {
          "base_uri": "https://localhost:8080/"
        },
        "id": "_W5BCEf2jXfz",
        "outputId": "586f49cd-86bf-4585-980e-a59bec24fbc3"
      },
      "execution_count": null,
      "outputs": [
        {
          "output_type": "execute_result",
          "data": {
            "text/plain": [
              "(45715, 22)"
            ]
          },
          "metadata": {},
          "execution_count": 14
        }
      ]
    },
    {
      "cell_type": "code",
      "source": [
        "X=X.drop(['readmitted'],axis=1)"
      ],
      "metadata": {
        "id": "Gsg7tR_QybZh"
      },
      "execution_count": null,
      "outputs": []
    },
    {
      "cell_type": "code",
      "source": [
        "X_train,X_test,y_train,y_test=train_test_split(X,y,train_size=40000, test_size=5714,random_state=42)"
      ],
      "metadata": {
        "id": "A2341gAXh0Ex"
      },
      "execution_count": null,
      "outputs": []
    },
    {
      "cell_type": "code",
      "source": [
        "X_train.shape"
      ],
      "metadata": {
        "colab": {
          "base_uri": "https://localhost:8080/"
        },
        "id": "8qZ4qqMQzJu_",
        "outputId": "2ff94bfd-63fb-4eeb-cff1-8021556caf84"
      },
      "execution_count": null,
      "outputs": [
        {
          "output_type": "execute_result",
          "data": {
            "text/plain": [
              "(40000, 21)"
            ]
          },
          "metadata": {},
          "execution_count": 17
        }
      ]
    },
    {
      "cell_type": "code",
      "source": [
        "# train_labels = to_categorical(y_train, dtype =\"uint8\")\n",
        "# test_labels = to_categorical(y_test, dtype =\"uint8\")"
      ],
      "metadata": {
        "id": "X7ljwzaKnukw"
      },
      "execution_count": null,
      "outputs": []
    },
    {
      "cell_type": "code",
      "source": [
        "train_labels.shape"
      ],
      "metadata": {
        "colab": {
          "base_uri": "https://localhost:8080/"
        },
        "id": "BPItAN9En73M",
        "outputId": "b6957980-2ec4-482a-980f-fcc59b1b98ea"
      },
      "execution_count": null,
      "outputs": [
        {
          "output_type": "execute_result",
          "data": {
            "text/plain": [
              "(40000, 2)"
            ]
          },
          "metadata": {},
          "execution_count": 19
        }
      ]
    },
    {
      "cell_type": "code",
      "source": [
        "X.columns"
      ],
      "metadata": {
        "colab": {
          "base_uri": "https://localhost:8080/"
        },
        "id": "Y5xzM3AjeGW1",
        "outputId": "9375568d-8c26-46f7-d980-de62740b9526"
      },
      "execution_count": null,
      "outputs": [
        {
          "output_type": "execute_result",
          "data": {
            "text/plain": [
              "Index(['Unnamed: 0', 'race', 'gender', 'age', 'admission_type_id',\n",
              "       'discharge_disposition_id', 'admission_source_id', 'time_in_hospital',\n",
              "       'num_lab_procedures', 'num_procedures', 'num_medications',\n",
              "       'number_outpatient', 'number_emergency', 'number_inpatient', 'diag_1',\n",
              "       'number_diagnoses', 'max_glu_serum', 'a1cresult', 'insulin', 'change',\n",
              "       'diabetesmed'],\n",
              "      dtype='object')"
            ]
          },
          "metadata": {},
          "execution_count": 20
        }
      ]
    },
    {
      "cell_type": "markdown",
      "source": [
        "## One Hot encoding the categorical Variables and Standardising the numerical features"
      ],
      "metadata": {
        "id": "FRwgut0o1-wq"
      }
    },
    {
      "cell_type": "code",
      "source": [
        "X['diabetesmed'].value_counts()"
      ],
      "metadata": {
        "colab": {
          "base_uri": "https://localhost:8080/"
        },
        "id": "HRVGkHpGdK6S",
        "outputId": "2c00a2af-87d3-49df-de74-bc5864ee7bad"
      },
      "execution_count": null,
      "outputs": [
        {
          "output_type": "execute_result",
          "data": {
            "text/plain": [
              "Yes    36415\n",
              "No      9300\n",
              "Name: diabetesmed, dtype: int64"
            ]
          },
          "metadata": {},
          "execution_count": 21
        }
      ]
    },
    {
      "cell_type": "code",
      "source": [
        "train_race=X_train['race'].to_numpy()\n",
        "test_race=X_test['race'].to_numpy()\n",
        "onenc_quantity=OneHotEncoder()\n",
        "onenc_train=onenc_quantity.fit(train_race.reshape(-1,1))\n",
        "train_race=onenc_quantity.transform(train_race.reshape(-1,1)).toarray()\n",
        "test_race=onenc_quantity.transform(test_race.reshape(-1,1)).toarray()"
      ],
      "metadata": {
        "id": "hff6SKShnyDp"
      },
      "execution_count": null,
      "outputs": []
    },
    {
      "cell_type": "code",
      "source": [
        "print(train_race[:200])"
      ],
      "metadata": {
        "colab": {
          "base_uri": "https://localhost:8080/"
        },
        "id": "27d89BMinSdg",
        "outputId": "562a262e-d27d-4987-af37-2b223a5a7f77"
      },
      "execution_count": null,
      "outputs": [
        {
          "output_type": "stream",
          "name": "stdout",
          "text": [
            "[[0. 0. 1. 0. 0.]\n",
            " [0. 0. 1. 0. 0.]\n",
            " [0. 0. 1. 0. 0.]\n",
            " [0. 0. 1. 0. 0.]\n",
            " [0. 0. 1. 0. 0.]\n",
            " [0. 0. 1. 0. 0.]\n",
            " [0. 1. 0. 0. 0.]\n",
            " [0. 0. 1. 0. 0.]\n",
            " [0. 0. 1. 0. 0.]\n",
            " [0. 0. 1. 0. 0.]\n",
            " [0. 0. 1. 0. 0.]\n",
            " [1. 0. 0. 0. 0.]\n",
            " [1. 0. 0. 0. 0.]\n",
            " [0. 0. 1. 0. 0.]\n",
            " [0. 0. 1. 0. 0.]\n",
            " [0. 0. 1. 0. 0.]\n",
            " [0. 0. 1. 0. 0.]\n",
            " [1. 0. 0. 0. 0.]\n",
            " [0. 0. 1. 0. 0.]\n",
            " [1. 0. 0. 0. 0.]\n",
            " [0. 0. 1. 0. 0.]\n",
            " [0. 0. 1. 0. 0.]\n",
            " [0. 0. 1. 0. 0.]\n",
            " [0. 0. 1. 0. 0.]\n",
            " [0. 0. 1. 0. 0.]\n",
            " [0. 0. 1. 0. 0.]\n",
            " [0. 0. 1. 0. 0.]\n",
            " [0. 0. 1. 0. 0.]\n",
            " [0. 0. 1. 0. 0.]\n",
            " [0. 0. 1. 0. 0.]\n",
            " [0. 0. 1. 0. 0.]\n",
            " [1. 0. 0. 0. 0.]\n",
            " [0. 0. 1. 0. 0.]\n",
            " [0. 0. 1. 0. 0.]\n",
            " [1. 0. 0. 0. 0.]\n",
            " [0. 0. 1. 0. 0.]\n",
            " [0. 0. 1. 0. 0.]\n",
            " [0. 0. 1. 0. 0.]\n",
            " [0. 0. 1. 0. 0.]\n",
            " [0. 0. 0. 0. 1.]\n",
            " [0. 0. 1. 0. 0.]\n",
            " [0. 0. 1. 0. 0.]\n",
            " [0. 0. 1. 0. 0.]\n",
            " [0. 0. 1. 0. 0.]\n",
            " [0. 0. 1. 0. 0.]\n",
            " [0. 0. 1. 0. 0.]\n",
            " [0. 0. 1. 0. 0.]\n",
            " [0. 0. 1. 0. 0.]\n",
            " [0. 0. 1. 0. 0.]\n",
            " [1. 0. 0. 0. 0.]\n",
            " [0. 0. 1. 0. 0.]\n",
            " [0. 0. 1. 0. 0.]\n",
            " [0. 0. 1. 0. 0.]\n",
            " [0. 0. 1. 0. 0.]\n",
            " [1. 0. 0. 0. 0.]\n",
            " [1. 0. 0. 0. 0.]\n",
            " [0. 0. 1. 0. 0.]\n",
            " [0. 0. 1. 0. 0.]\n",
            " [1. 0. 0. 0. 0.]\n",
            " [0. 0. 1. 0. 0.]\n",
            " [1. 0. 0. 0. 0.]\n",
            " [0. 0. 1. 0. 0.]\n",
            " [1. 0. 0. 0. 0.]\n",
            " [0. 0. 0. 1. 0.]\n",
            " [0. 0. 1. 0. 0.]\n",
            " [0. 0. 1. 0. 0.]\n",
            " [0. 0. 1. 0. 0.]\n",
            " [0. 0. 1. 0. 0.]\n",
            " [1. 0. 0. 0. 0.]\n",
            " [1. 0. 0. 0. 0.]\n",
            " [0. 0. 1. 0. 0.]\n",
            " [0. 0. 1. 0. 0.]\n",
            " [0. 0. 1. 0. 0.]\n",
            " [0. 0. 1. 0. 0.]\n",
            " [0. 0. 1. 0. 0.]\n",
            " [0. 0. 1. 0. 0.]\n",
            " [0. 0. 1. 0. 0.]\n",
            " [0. 0. 1. 0. 0.]\n",
            " [0. 0. 1. 0. 0.]\n",
            " [0. 0. 1. 0. 0.]\n",
            " [1. 0. 0. 0. 0.]\n",
            " [0. 0. 1. 0. 0.]\n",
            " [0. 0. 1. 0. 0.]\n",
            " [1. 0. 0. 0. 0.]\n",
            " [0. 0. 1. 0. 0.]\n",
            " [0. 0. 1. 0. 0.]\n",
            " [0. 0. 1. 0. 0.]\n",
            " [0. 0. 1. 0. 0.]\n",
            " [0. 0. 1. 0. 0.]\n",
            " [0. 0. 1. 0. 0.]\n",
            " [0. 0. 1. 0. 0.]\n",
            " [1. 0. 0. 0. 0.]\n",
            " [0. 0. 1. 0. 0.]\n",
            " [0. 0. 1. 0. 0.]\n",
            " [0. 0. 1. 0. 0.]\n",
            " [0. 0. 1. 0. 0.]\n",
            " [0. 0. 1. 0. 0.]\n",
            " [0. 0. 1. 0. 0.]\n",
            " [0. 0. 1. 0. 0.]\n",
            " [0. 0. 1. 0. 0.]\n",
            " [1. 0. 0. 0. 0.]\n",
            " [0. 0. 1. 0. 0.]\n",
            " [1. 0. 0. 0. 0.]\n",
            " [0. 0. 1. 0. 0.]\n",
            " [0. 0. 1. 0. 0.]\n",
            " [0. 0. 1. 0. 0.]\n",
            " [0. 0. 1. 0. 0.]\n",
            " [0. 0. 1. 0. 0.]\n",
            " [0. 0. 1. 0. 0.]\n",
            " [1. 0. 0. 0. 0.]\n",
            " [0. 0. 1. 0. 0.]\n",
            " [0. 0. 1. 0. 0.]\n",
            " [0. 0. 1. 0. 0.]\n",
            " [0. 0. 1. 0. 0.]\n",
            " [1. 0. 0. 0. 0.]\n",
            " [0. 0. 1. 0. 0.]\n",
            " [0. 0. 1. 0. 0.]\n",
            " [1. 0. 0. 0. 0.]\n",
            " [1. 0. 0. 0. 0.]\n",
            " [0. 0. 1. 0. 0.]\n",
            " [1. 0. 0. 0. 0.]\n",
            " [0. 0. 1. 0. 0.]\n",
            " [0. 0. 1. 0. 0.]\n",
            " [0. 0. 1. 0. 0.]\n",
            " [1. 0. 0. 0. 0.]\n",
            " [0. 0. 1. 0. 0.]\n",
            " [0. 0. 1. 0. 0.]\n",
            " [0. 0. 1. 0. 0.]\n",
            " [0. 0. 1. 0. 0.]\n",
            " [0. 0. 0. 1. 0.]\n",
            " [0. 0. 1. 0. 0.]\n",
            " [1. 0. 0. 0. 0.]\n",
            " [1. 0. 0. 0. 0.]\n",
            " [0. 0. 1. 0. 0.]\n",
            " [0. 0. 1. 0. 0.]\n",
            " [0. 0. 1. 0. 0.]\n",
            " [0. 0. 1. 0. 0.]\n",
            " [0. 0. 1. 0. 0.]\n",
            " [0. 0. 1. 0. 0.]\n",
            " [1. 0. 0. 0. 0.]\n",
            " [0. 0. 1. 0. 0.]\n",
            " [0. 0. 1. 0. 0.]\n",
            " [1. 0. 0. 0. 0.]\n",
            " [0. 0. 1. 0. 0.]\n",
            " [0. 0. 1. 0. 0.]\n",
            " [0. 0. 1. 0. 0.]\n",
            " [0. 0. 0. 1. 0.]\n",
            " [0. 0. 1. 0. 0.]\n",
            " [1. 0. 0. 0. 0.]\n",
            " [0. 0. 0. 0. 1.]\n",
            " [1. 0. 0. 0. 0.]\n",
            " [0. 0. 1. 0. 0.]\n",
            " [1. 0. 0. 0. 0.]\n",
            " [0. 0. 1. 0. 0.]\n",
            " [0. 0. 0. 0. 1.]\n",
            " [1. 0. 0. 0. 0.]\n",
            " [0. 0. 1. 0. 0.]\n",
            " [0. 0. 1. 0. 0.]\n",
            " [0. 0. 1. 0. 0.]\n",
            " [0. 0. 1. 0. 0.]\n",
            " [1. 0. 0. 0. 0.]\n",
            " [1. 0. 0. 0. 0.]\n",
            " [0. 0. 1. 0. 0.]\n",
            " [0. 0. 1. 0. 0.]\n",
            " [1. 0. 0. 0. 0.]\n",
            " [0. 0. 1. 0. 0.]\n",
            " [0. 0. 1. 0. 0.]\n",
            " [0. 0. 1. 0. 0.]\n",
            " [0. 0. 1. 0. 0.]\n",
            " [0. 0. 1. 0. 0.]\n",
            " [0. 0. 1. 0. 0.]\n",
            " [0. 0. 1. 0. 0.]\n",
            " [0. 0. 1. 0. 0.]\n",
            " [0. 0. 1. 0. 0.]\n",
            " [0. 0. 1. 0. 0.]\n",
            " [0. 0. 1. 0. 0.]\n",
            " [0. 0. 1. 0. 0.]\n",
            " [1. 0. 0. 0. 0.]\n",
            " [0. 0. 1. 0. 0.]\n",
            " [0. 0. 0. 1. 0.]\n",
            " [1. 0. 0. 0. 0.]\n",
            " [1. 0. 0. 0. 0.]\n",
            " [0. 0. 1. 0. 0.]\n",
            " [0. 0. 1. 0. 0.]\n",
            " [0. 0. 1. 0. 0.]\n",
            " [0. 0. 1. 0. 0.]\n",
            " [0. 0. 1. 0. 0.]\n",
            " [0. 0. 1. 0. 0.]\n",
            " [0. 0. 1. 0. 0.]\n",
            " [1. 0. 0. 0. 0.]\n",
            " [0. 0. 1. 0. 0.]\n",
            " [0. 0. 1. 0. 0.]\n",
            " [0. 0. 1. 0. 0.]\n",
            " [0. 0. 1. 0. 0.]\n",
            " [1. 0. 0. 0. 0.]\n",
            " [0. 0. 1. 0. 0.]\n",
            " [0. 0. 1. 0. 0.]\n",
            " [0. 0. 1. 0. 0.]\n",
            " [1. 0. 0. 0. 0.]\n",
            " [0. 0. 1. 0. 0.]]\n"
          ]
        }
      ]
    },
    {
      "cell_type": "code",
      "source": [
        "train_gender=X_train['gender'].to_numpy()\n",
        "test_gender=X_test['gender'].to_numpy()\n",
        "onenc_quantity=OneHotEncoder()\n",
        "onenc_train=onenc_quantity.fit(train_gender.reshape(-1,1))\n",
        "train_gender=onenc_quantity.transform(train_gender.reshape(-1,1)).toarray()\n",
        "test_gender=onenc_quantity.transform(test_gender.reshape(-1,1)).toarray()"
      ],
      "metadata": {
        "id": "7CV0zt_To1YP"
      },
      "execution_count": null,
      "outputs": []
    },
    {
      "cell_type": "code",
      "source": [
        "print(train_gender)"
      ],
      "metadata": {
        "colab": {
          "base_uri": "https://localhost:8080/"
        },
        "id": "sw81RCK4o6Zb",
        "outputId": "cf8800fc-127d-42f8-b86e-85512290a7a0"
      },
      "execution_count": null,
      "outputs": [
        {
          "output_type": "stream",
          "name": "stdout",
          "text": [
            "[[0. 1.]\n",
            " [0. 1.]\n",
            " [0. 1.]\n",
            " ...\n",
            " [0. 1.]\n",
            " [1. 0.]\n",
            " [1. 0.]]\n"
          ]
        }
      ]
    },
    {
      "cell_type": "code",
      "source": [
        "train_diag=X_train['diag_1'].to_numpy()\n",
        "test_diag=X_test['diag_1'].to_numpy()\n",
        "onenc_quantity=OneHotEncoder()\n",
        "onenc_train=onenc_quantity.fit(train_diag.reshape(-1,1))\n",
        "train_diag=onenc_quantity.transform(train_diag.reshape(-1,1)).toarray()\n",
        "test_diag=onenc_quantity.transform(test_diag.reshape(-1,1)).toarray()"
      ],
      "metadata": {
        "id": "ZT_xzP7eo_rd"
      },
      "execution_count": null,
      "outputs": []
    },
    {
      "cell_type": "code",
      "source": [
        "print(train_diag)"
      ],
      "metadata": {
        "colab": {
          "base_uri": "https://localhost:8080/"
        },
        "id": "THbbA4ySpBxm",
        "outputId": "4a4df806-4cdf-4e26-b617-d8070cfd580e"
      },
      "execution_count": null,
      "outputs": [
        {
          "output_type": "stream",
          "name": "stdout",
          "text": [
            "[[1. 0.]\n",
            " [1. 0.]\n",
            " [1. 0.]\n",
            " ...\n",
            " [0. 1.]\n",
            " [1. 0.]\n",
            " [1. 0.]]\n"
          ]
        }
      ]
    },
    {
      "cell_type": "code",
      "source": [
        "train_diabetes=X_train['diabetesmed'].to_numpy()\n",
        "test_diabetes=X_test['diabetesmed'].to_numpy()\n",
        "onenc_quantity=OneHotEncoder()\n",
        "onenc_train=onenc_quantity.fit(train_diabetes.reshape(-1,1))\n",
        "train_diabetes=onenc_quantity.transform(train_diabetes.reshape(-1,1)).toarray()\n",
        "test_diabetes=onenc_quantity.transform(test_diabetes.reshape(-1,1)).toarray()\n",
        "\n"
      ],
      "metadata": {
        "id": "5_dNotlG2Jrn"
      },
      "execution_count": null,
      "outputs": []
    },
    {
      "cell_type": "code",
      "source": [
        "print(train_diabetes)"
      ],
      "metadata": {
        "colab": {
          "base_uri": "https://localhost:8080/"
        },
        "id": "aTNkVmFupOW0",
        "outputId": "adb3549a-d3ba-4a7f-ba1e-9829173dceac"
      },
      "execution_count": null,
      "outputs": [
        {
          "output_type": "stream",
          "name": "stdout",
          "text": [
            "[[1. 0.]\n",
            " [0. 1.]\n",
            " [0. 1.]\n",
            " ...\n",
            " [1. 0.]\n",
            " [0. 1.]\n",
            " [1. 0.]]\n"
          ]
        }
      ]
    },
    {
      "cell_type": "code",
      "source": [
        "X['age'].value_counts()"
      ],
      "metadata": {
        "colab": {
          "base_uri": "https://localhost:8080/"
        },
        "id": "JkxO4fLEeWry",
        "outputId": "53686067-50c2-46f0-88c7-5058d7647256"
      },
      "execution_count": null,
      "outputs": [
        {
          "output_type": "execute_result",
          "data": {
            "text/plain": [
              "[70-80)     12267\n",
              "[60-70)     10195\n",
              "[80-90)      8098\n",
              "[50-60)      7442\n",
              "[40-50)      4189\n",
              "[30-40)      1550\n",
              "[90-100)     1092\n",
              "[20-30)       673\n",
              "[10-20)       195\n",
              "[0-10)         14\n",
              "Name: age, dtype: int64"
            ]
          },
          "metadata": {},
          "execution_count": 30
        }
      ]
    },
    {
      "cell_type": "code",
      "source": [
        "age={'[70-80)':0,'[60-70)':1,'[80-90)':2,'[50-60)':3,'[40-50)':4,'[30-40)':5,'[90-100)':6,'[20-30)':7,'[10-20)':8,'[0-10)':9}\n",
        "age\n",
        "glu_serum={'None':0,'Norm':1,'>200':2,'>300':3}\n",
        "glu_serum\n",
        "a1c_result={'None':0,'Norm':1,'>7':2,'>8':3}\n",
        "\n"
      ],
      "metadata": {
        "id": "_3B3Z9qShcg_"
      },
      "execution_count": null,
      "outputs": []
    },
    {
      "cell_type": "code",
      "source": [
        "train_age=np.array([age[ele] for ele in X_train['age']])\n",
        "test_age=np.array([age[ele] for ele in X_test['age']])\n",
        "scaler = StandardScaler()\n",
        "scaler.fit(train_age.reshape(-1, 1))\n",
        "train_age=scaler.transform(train_age.reshape(-1,1))\n",
        "test_age=scaler.transform(test_age.reshape(-1,1))"
      ],
      "metadata": {
        "id": "qZZJVDe4qLEU"
      },
      "execution_count": null,
      "outputs": []
    },
    {
      "cell_type": "code",
      "source": [
        "print(train_age)"
      ],
      "metadata": {
        "colab": {
          "base_uri": "https://localhost:8080/"
        },
        "id": "K5wub4WHqNNw",
        "outputId": "24d5bda1-2f9d-4cd2-8c9a-c83d9e534fb1"
      },
      "execution_count": null,
      "outputs": [
        {
          "output_type": "stream",
          "name": "stdout",
          "text": [
            "[[ 0.63924158]\n",
            " [-0.50828061]\n",
            " [ 1.78676378]\n",
            " ...\n",
            " [ 1.78676378]\n",
            " [-1.08204171]\n",
            " [ 2.36052488]]\n"
          ]
        }
      ]
    },
    {
      "cell_type": "code",
      "source": [
        "scaler = StandardScaler()\n",
        "train_time=X_train['time_in_hospital'].to_numpy()\n",
        "test_time=X_test['time_in_hospital'].to_numpy()\n",
        "scaler.fit(train_time.reshape(-1, 1))\n",
        "train_time=scaler.transform(train_time.reshape(-1,1))\n",
        "test_time=scaler.transform(test_time.reshape(-1,1))"
      ],
      "metadata": {
        "id": "K6vk3hAZqcLH"
      },
      "execution_count": null,
      "outputs": []
    },
    {
      "cell_type": "code",
      "source": [
        "print(train_time)"
      ],
      "metadata": {
        "colab": {
          "base_uri": "https://localhost:8080/"
        },
        "id": "x7Dn79SqqdtQ",
        "outputId": "6b499617-10cc-4fb0-8058-4ae8080a6055"
      },
      "execution_count": null,
      "outputs": [
        {
          "output_type": "stream",
          "name": "stdout",
          "text": [
            "[[-0.52352545]\n",
            " [ 0.80847327]\n",
            " [-1.18952481]\n",
            " ...\n",
            " [-0.52352545]\n",
            " [ 0.47547359]\n",
            " [ 0.47547359]]\n"
          ]
        }
      ]
    },
    {
      "cell_type": "code",
      "source": [
        "train_lab=X_train['num_lab_procedures'].to_numpy()\n",
        "test_lab=X_test['num_lab_procedures'].to_numpy()\n",
        "scaler.fit(train_lab.reshape(-1, 1))\n",
        "train_lab=scaler.transform(train_lab.reshape(-1,1))\n",
        "test_lab=scaler.transform(test_lab.reshape(-1,1))"
      ],
      "metadata": {
        "id": "TeIjCL5Eqt3Y"
      },
      "execution_count": null,
      "outputs": []
    },
    {
      "cell_type": "code",
      "source": [
        "print(train_lab)"
      ],
      "metadata": {
        "colab": {
          "base_uri": "https://localhost:8080/"
        },
        "id": "vhmfWfuDq2Y_",
        "outputId": "67833a8c-2e3a-4140-97c7-8e6307b618bc"
      },
      "execution_count": null,
      "outputs": [
        {
          "output_type": "stream",
          "name": "stdout",
          "text": [
            "[[-0.61011222]\n",
            " [ 0.62055753]\n",
            " [-0.25116688]\n",
            " ...\n",
            " [ 0.56927962]\n",
            " [-0.25116688]\n",
            " [ 1.13333659]]\n"
          ]
        }
      ]
    },
    {
      "cell_type": "code",
      "source": [
        "train_process=X_train['num_procedures'].to_numpy()\n",
        "test_process=X_test['num_procedures'].to_numpy()\n",
        "scaler.fit(train_process.reshape(-1, 1))\n",
        "train_process=scaler.transform(train_process.reshape(-1,1))\n",
        "test_process=scaler.transform(test_process.reshape(-1,1))"
      ],
      "metadata": {
        "id": "SW5UzB7gq74R"
      },
      "execution_count": null,
      "outputs": []
    },
    {
      "cell_type": "code",
      "source": [
        "print(train_process)"
      ],
      "metadata": {
        "colab": {
          "base_uri": "https://localhost:8080/"
        },
        "id": "A19FreKEq9Pq",
        "outputId": "fd37441b-e549-4005-9b48-5c448d37aeda"
      },
      "execution_count": null,
      "outputs": [
        {
          "output_type": "stream",
          "name": "stdout",
          "text": [
            "[[-0.7601184 ]\n",
            " [-0.15841378]\n",
            " [-0.7601184 ]\n",
            " ...\n",
            " [-0.7601184 ]\n",
            " [-0.7601184 ]\n",
            " [-0.7601184 ]]\n"
          ]
        }
      ]
    },
    {
      "cell_type": "code",
      "source": [
        "train_med=X_train['num_medications'].to_numpy()\n",
        "test_med=X_test['num_medications'].to_numpy()\n",
        "scaler.fit(train_med.reshape(-1, 1))\n",
        "train_med=scaler.transform(train_med.reshape(-1,1))\n",
        "test_med=scaler.transform(test_med.reshape(-1,1))\n",
        "\n",
        "train_out=X_train['number_outpatient'].to_numpy()\n",
        "test_out=X_test['number_outpatient'].to_numpy()\n",
        "scaler.fit(train_out.reshape(-1, 1))\n",
        "train_out=scaler.transform(train_out.reshape(-1,1))\n",
        "test_out=scaler.transform(test_out.reshape(-1,1))\n",
        "\n",
        "train_in=X_train['number_inpatient'].to_numpy()\n",
        "test_in=X_test['number_inpatient'].to_numpy()\n",
        "scaler.fit(train_in.reshape(-1, 1))\n",
        "train_in=scaler.transform(train_out.reshape(-1,1))\n",
        "test_out=scaler.transform(test_out.reshape(-1,1))\n",
        "\n",
        "train_emergency=X_train['number_emergency'].to_numpy()\n",
        "test_emergency=X_test['number_emergency'].to_numpy()\n",
        "scaler.fit(train_emergency.reshape(-1, 1))\n",
        "train_emergency=scaler.transform(train_emergency.reshape(-1,1))\n",
        "test_emergency=scaler.transform(test_emergency.reshape(-1,1))\n",
        "\n",
        "train_diagnoses=X_train['number_diagnoses'].to_numpy()\n",
        "test_diagnoses=X_test['number_diagnoses'].to_numpy()\n",
        "scaler.fit(train_diagnoses.reshape(-1, 1))\n",
        "train_diagnoses=scaler.transform(train_diagnoses.reshape(-1,1))\n",
        "test_diagnoses=scaler.transform(test_diagnoses.reshape(-1,1))\n",
        "\n",
        "train_glu=np.array([glu_serum[ele] for ele in X_train['max_glu_serum']])\n",
        "test_glu=np.array([glu_serum[ele] for ele in X_test['max_glu_serum']])\n",
        "scaler = StandardScaler()\n",
        "scaler.fit(train_glu.reshape(-1, 1))\n",
        "train_glu=scaler.transform(train_glu.reshape(-1,1))\n",
        "test_glu=scaler.transform(test_glu.reshape(-1,1))\n",
        "\n",
        "train_a1c=np.array([a1c_result[ele] for ele in X_train['a1cresult']])\n",
        "test_a1c=np.array([a1c_result[ele] for ele in X_test['a1cresult']])\n",
        "scaler = StandardScaler()\n",
        "scaler.fit(train_a1c.reshape(-1, 1))\n",
        "train_a1c=scaler.transform(train_a1c.reshape(-1,1))\n",
        "test_a1c=scaler.transform(test_a1c.reshape(-1,1))\n",
        "\n"
      ],
      "metadata": {
        "id": "ivbIkRIP4p09"
      },
      "execution_count": null,
      "outputs": []
    },
    {
      "cell_type": "code",
      "source": [
        "insulin_={'Down':1,\"No\":0,'Steady':2,'Up':3}\n",
        "train_insulin = np.array([insulin_[ele] for ele in X_train['insulin']])\n",
        "test_insulin = np.array([insulin_[ele] for ele in X_test['insulin']])\n",
        "scaler = StandardScaler()\n",
        "scaler.fit(train_a1c.reshape(-1, 1))\n",
        "train_insulin=scaler.transform(train_insulin.reshape(-1,1))\n",
        "test_insulin=scaler.transform(test_insulin.reshape(-1,1))\n"
      ],
      "metadata": {
        "id": "qha3Df04sRMi"
      },
      "execution_count": null,
      "outputs": []
    },
    {
      "cell_type": "code",
      "source": [
        "print(train_insulin)"
      ],
      "metadata": {
        "colab": {
          "base_uri": "https://localhost:8080/"
        },
        "id": "73zNuCwhwoCV",
        "outputId": "e7f6f4f3-1966-4207-85fd-966e81923177"
      },
      "execution_count": null,
      "outputs": [
        {
          "output_type": "stream",
          "name": "stdout",
          "text": [
            "[[4.45865567e-17]\n",
            " [2.00000000e+00]\n",
            " [2.00000000e+00]\n",
            " ...\n",
            " [4.45865567e-17]\n",
            " [1.00000000e+00]\n",
            " [4.45865567e-17]]\n"
          ]
        }
      ]
    },
    {
      "cell_type": "code",
      "source": [
        "admission_type_id={'Emergency':2,'Other type':0}\n",
        "train_add_id = np.array([admission_type_id[ele] for ele in X_train['admission_type_id']])\n",
        "test_add_id = np.array([admission_type_id[ele] for ele in X_test['admission_type_id']])\n",
        "scaler = StandardScaler()\n",
        "scaler.fit(train_a1c.reshape(-1, 1))\n",
        "train_add_id=scaler.transform(train_add_id.reshape(-1,1))\n",
        "test_add_id=scaler.transform(test_add_id.reshape(-1,1))"
      ],
      "metadata": {
        "id": "BaOFX1lIvp-z"
      },
      "execution_count": null,
      "outputs": []
    },
    {
      "cell_type": "code",
      "source": [
        "print(train_add_id)"
      ],
      "metadata": {
        "colab": {
          "base_uri": "https://localhost:8080/"
        },
        "id": "CBNCzHEJwiUQ",
        "outputId": "28eef53a-d09c-41de-9587-03a0e7979d8e"
      },
      "execution_count": null,
      "outputs": [
        {
          "output_type": "stream",
          "name": "stdout",
          "text": [
            "[[2.00000000e+00]\n",
            " [2.00000000e+00]\n",
            " [4.45865567e-17]\n",
            " ...\n",
            " [2.00000000e+00]\n",
            " [4.45865567e-17]\n",
            " [2.00000000e+00]]\n"
          ]
        }
      ]
    },
    {
      "cell_type": "code",
      "source": [
        "train_data=np.column_stack((train_race,train_gender,train_add_id,train_diag,train_diabetes,train_age,train_time,train_lab,train_process,train_med,train_in,train_out,train_emergency,train_diagnoses,train_glu,train_a1c,train_insulin))\n",
        "test_data=np.column_stack((test_race,test_gender,test_add_id,test_diag,test_diabetes,test_age,test_time,test_lab,test_process,test_med,test_in,test_out,test_emergency,test_diagnoses,test_glu,test_a1c,test_insulin))"
      ],
      "metadata": {
        "id": "5bfVbXw-Alq-"
      },
      "execution_count": null,
      "outputs": []
    },
    {
      "cell_type": "code",
      "source": [
        "train_data.shape"
      ],
      "metadata": {
        "id": "tQ8eZOUeCTzO",
        "colab": {
          "base_uri": "https://localhost:8080/"
        },
        "outputId": "00b379d1-31c0-40f9-de7a-17a630eb44be"
      },
      "execution_count": null,
      "outputs": [
        {
          "output_type": "execute_result",
          "data": {
            "text/plain": [
              "(40000, 24)"
            ]
          },
          "metadata": {},
          "execution_count": 46
        }
      ]
    },
    {
      "cell_type": "code",
      "source": [
        "np.save('train_data',train_data)\n",
        "np.save('test_data',test_data)\n",
        "np.save('y_train',y_train)\n",
        "np.save('y_test',y_test)"
      ],
      "metadata": {
        "id": "yS-7dr6_s2PF"
      },
      "execution_count": null,
      "outputs": []
    },
    {
      "cell_type": "code",
      "source": [
        "result=np.load('train_data.npy')\n",
        "result.shape"
      ],
      "metadata": {
        "colab": {
          "base_uri": "https://localhost:8080/"
        },
        "id": "D8yNoj5qtEbX",
        "outputId": "71f75ae3-a4eb-42d9-84cb-08a50f5696ca"
      },
      "execution_count": null,
      "outputs": [
        {
          "output_type": "execute_result",
          "data": {
            "text/plain": [
              "(34285, 22)"
            ]
          },
          "metadata": {},
          "execution_count": 77
        }
      ]
    }
  ]
}